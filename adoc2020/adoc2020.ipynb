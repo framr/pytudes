{
 "cells": [
  {
   "cell_type": "code",
   "execution_count": null,
   "metadata": {},
   "outputs": [],
   "source": []
  },
  {
   "cell_type": "code",
   "execution_count": null,
   "metadata": {},
   "outputs": [],
   "source": []
  },
  {
   "cell_type": "markdown",
   "metadata": {},
   "source": [
    "# Day 1"
   ]
  },
  {
   "cell_type": "code",
   "execution_count": 2,
   "metadata": {},
   "outputs": [],
   "source": [
    "def two_sum(target, nums):\n",
    "    data = set([target - val for val in nums])\n",
    "    for val in nums:\n",
    "        if val in data:\n",
    "            print(val, target - val)"
   ]
  },
  {
   "cell_type": "code",
   "execution_count": 5,
   "metadata": {},
   "outputs": [
    {
     "name": "stdout",
     "output_type": "stream",
     "text": [
      "1504 516\n",
      "516 1504\n"
     ]
    }
   ],
   "source": [
    "with open(\"p1_input\") as fd:\n",
    "    nums = [int(line.strip()) for line in fd]\n",
    "    \n",
    "two_sum(2020, nums)"
   ]
  },
  {
   "cell_type": "code",
   "execution_count": 6,
   "metadata": {},
   "outputs": [
    {
     "data": {
      "text/plain": [
       "776064"
      ]
     },
     "execution_count": 6,
     "metadata": {},
     "output_type": "execute_result"
    }
   ],
   "source": [
    "1504 * 516"
   ]
  },
  {
   "cell_type": "code",
   "execution_count": 20,
   "metadata": {},
   "outputs": [
    {
     "name": "stdout",
     "output_type": "stream",
     "text": [
      "[[13, 317, 1690]]\n",
      "2020 6964490\n"
     ]
    }
   ],
   "source": [
    "def two_sum_v2(target, val, begin, nums, res):\n",
    "    target -= val\n",
    "    first, second = begin, len(nums) - 1\n",
    "    while first < second:\n",
    "        if nums[first] + nums[second] == target:\n",
    "            res.append([val, nums[first], nums[second]])\n",
    "            first += 1\n",
    "            second -= 1\n",
    "        elif nums[first] + nums[second] < target:\n",
    "            first += 1\n",
    "        elif nums[first] + nums[second] > target:\n",
    "            second -= 1\n",
    "\n",
    "def three_sum(target, nums):\n",
    "    nums.sort()\n",
    "    res = []\n",
    "    for i, first in enumerate(nums):\n",
    "        two_sum_v2(target, first, i + 1, nums, res)\n",
    "    return res\n",
    "        \n",
    "res = three_sum(2020, nums)\n",
    "print(res)\n",
    "from functools import reduce\n",
    "print(sum(res[0]), reduce(lambda x, y: x*y, res[0]))"
   ]
  },
  {
   "cell_type": "code",
   "execution_count": 21,
   "metadata": {},
   "outputs": [
    {
     "data": {
      "text/plain": [
       "6964490"
      ]
     },
     "execution_count": 21,
     "metadata": {},
     "output_type": "execute_result"
    }
   ],
   "source": [
    "13 * 317 * 1690"
   ]
  },
  {
   "cell_type": "markdown",
   "metadata": {},
   "source": [
    "# Day 2"
   ]
  },
  {
   "cell_type": "code",
   "execution_count": 4,
   "metadata": {},
   "outputs": [
    {
     "name": "stdout",
     "output_type": "stream",
     "text": [
      "493 593\n"
     ]
    }
   ],
   "source": [
    "def valid_password(rule, pwd):\n",
    "    cnt, symb = rule.split()\n",
    "    min_cnt, max_cnt = map(int, cnt.split(\"-\"))\n",
    "    stats = {}\n",
    "    for c in pwd:\n",
    "        stats[c] = stats.get(c, 0) + 1\n",
    "    return min_cnt <= stats.get(symb, 0) <= max_cnt\n",
    "\n",
    "\n",
    "def valid_password2(rule, pwd):\n",
    "    cnt, symb = rule.split()\n",
    "    first, second = map(int, cnt.split(\"-\"))\n",
    "    count = int(pwd[first - 1] == symb) + int(pwd[second - 1] == symb)\n",
    "    return count == 1\n",
    "\n",
    "\n",
    "filename = \"day2_passwords.txt\"\n",
    "data = [line.strip() for line in open(filename)]\n",
    "cnt, cnt2 = 0, 0\n",
    "for rec in data:\n",
    "    rule, pwd = rec.split(\":\")\n",
    "    cnt += int(valid_password(rule, pwd.strip()))\n",
    "    cnt2 += int(valid_password2(rule, pwd.strip()))\n",
    "\n",
    "print(cnt, cnt2)"
   ]
  },
  {
   "cell_type": "markdown",
   "metadata": {},
   "source": [
    "# Day 3"
   ]
  },
  {
   "cell_type": "code",
   "execution_count": 4,
   "metadata": {},
   "outputs": [
    {
     "name": "stdout",
     "output_type": "stream",
     "text": [
      "214\n",
      "[94, 214, 99, 91, 46]\n",
      "8336352024\n"
     ]
    }
   ],
   "source": [
    "def count_trees(board, dx=3, dy=1, tree=\"#\"):\n",
    "    maxx = len(board[0])\n",
    "    maxy = len(board)\n",
    "    x, y = 0, 0\n",
    "    cnt = 0\n",
    "    while y + dy < maxy:\n",
    "        x = (x + dx) % maxx\n",
    "        y += dy\n",
    "        cnt += int(board[y][x] == tree)\n",
    "    return cnt\n",
    "\n",
    "filename = \"day3_trees.txt\"\n",
    "data = []\n",
    "with open(filename) as fd:\n",
    "    for line in fd:\n",
    "        data.append(list(line.strip()))\n",
    "\n",
    "res = count_trees(data)\n",
    "print(res)\n",
    "\n",
    "slopes = [(1, 1), (3, 1), (5, 1), (7, 1), (1, 2)] \n",
    "res = [count_trees(data, dx, dy) for dx, dy in slopes]\n",
    "print(res)\n",
    "import math\n",
    "print(math.prod(res))"
   ]
  },
  {
   "cell_type": "code",
   "execution_count": null,
   "metadata": {},
   "outputs": [],
   "source": []
  }
 ],
 "metadata": {
  "kernelspec": {
   "display_name": "Python 3",
   "language": "python",
   "name": "python3"
  },
  "language_info": {
   "codemirror_mode": {
    "name": "ipython",
    "version": 3
   },
   "file_extension": ".py",
   "mimetype": "text/x-python",
   "name": "python",
   "nbconvert_exporter": "python",
   "pygments_lexer": "ipython3",
   "version": "3.8.5"
  }
 },
 "nbformat": 4,
 "nbformat_minor": 4
}
