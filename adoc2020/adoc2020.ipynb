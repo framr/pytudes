{
 "cells": [
  {
   "cell_type": "code",
   "execution_count": null,
   "metadata": {},
   "outputs": [],
   "source": []
  },
  {
   "cell_type": "markdown",
   "metadata": {},
   "source": [
    "# Day 1"
   ]
  },
  {
   "cell_type": "code",
   "execution_count": 2,
   "metadata": {},
   "outputs": [],
   "source": [
    "def two_sum(target, nums):\n",
    "    data = set([target - val for val in nums])\n",
    "    for val in nums:\n",
    "        if val in data:\n",
    "            print(val, target - val)"
   ]
  },
  {
   "cell_type": "code",
   "execution_count": 3,
   "metadata": {},
   "outputs": [
    {
     "name": "stdout",
     "output_type": "stream",
     "text": [
      "1504 516\n",
      "516 1504\n"
     ]
    }
   ],
   "source": [
    "with open(\"p1_input\") as fd:\n",
    "    nums = [int(line.strip()) for line in fd]\n",
    "    \n",
    "two_sum(2020, nums)"
   ]
  },
  {
   "cell_type": "code",
   "execution_count": 4,
   "metadata": {},
   "outputs": [
    {
     "data": {
      "text/plain": [
       "776064"
      ]
     },
     "execution_count": 4,
     "metadata": {},
     "output_type": "execute_result"
    }
   ],
   "source": [
    "1504 * 516"
   ]
  },
  {
   "cell_type": "code",
   "execution_count": 5,
   "metadata": {},
   "outputs": [
    {
     "name": "stdout",
     "output_type": "stream",
     "text": [
      "[[13, 317, 1690]]\n",
      "2020 6964490\n"
     ]
    }
   ],
   "source": [
    "def two_sum_v2(target, val, begin, nums, res):\n",
    "    target -= val\n",
    "    first, second = begin, len(nums) - 1\n",
    "    while first < second:\n",
    "        if nums[first] + nums[second] == target:\n",
    "            res.append([val, nums[first], nums[second]])\n",
    "            first += 1\n",
    "            second -= 1\n",
    "        elif nums[first] + nums[second] < target:\n",
    "            first += 1\n",
    "        elif nums[first] + nums[second] > target:\n",
    "            second -= 1\n",
    "\n",
    "def three_sum(target, nums):\n",
    "    nums.sort()\n",
    "    res = []\n",
    "    for i, first in enumerate(nums):\n",
    "        two_sum_v2(target, first, i + 1, nums, res)\n",
    "    return res\n",
    "        \n",
    "res = three_sum(2020, nums)\n",
    "print(res)\n",
    "from functools import reduce\n",
    "print(sum(res[0]), reduce(lambda x, y: x*y, res[0]))"
   ]
  },
  {
   "cell_type": "code",
   "execution_count": 6,
   "metadata": {},
   "outputs": [
    {
     "data": {
      "text/plain": [
       "6964490"
      ]
     },
     "execution_count": 6,
     "metadata": {},
     "output_type": "execute_result"
    }
   ],
   "source": [
    "13 * 317 * 1690"
   ]
  },
  {
   "cell_type": "markdown",
   "metadata": {},
   "source": [
    "# Day 2"
   ]
  },
  {
   "cell_type": "code",
   "execution_count": 7,
   "metadata": {},
   "outputs": [
    {
     "name": "stdout",
     "output_type": "stream",
     "text": [
      "493 593\n"
     ]
    }
   ],
   "source": [
    "def valid_password(rule, pwd):\n",
    "    cnt, symb = rule.split()\n",
    "    min_cnt, max_cnt = map(int, cnt.split(\"-\"))\n",
    "    stats = {}\n",
    "    for c in pwd:\n",
    "        stats[c] = stats.get(c, 0) + 1\n",
    "    return min_cnt <= stats.get(symb, 0) <= max_cnt\n",
    "\n",
    "\n",
    "def valid_password2(rule, pwd):\n",
    "    cnt, symb = rule.split()\n",
    "    first, second = map(int, cnt.split(\"-\"))\n",
    "    count = int(pwd[first - 1] == symb) + int(pwd[second - 1] == symb)\n",
    "    return count == 1\n",
    "\n",
    "\n",
    "filename = \"day2_passwords.txt\"\n",
    "data = [line.strip() for line in open(filename)]\n",
    "cnt, cnt2 = 0, 0\n",
    "for rec in data:\n",
    "    rule, pwd = rec.split(\":\")\n",
    "    cnt += int(valid_password(rule, pwd.strip()))\n",
    "    cnt2 += int(valid_password2(rule, pwd.strip()))\n",
    "\n",
    "print(cnt, cnt2)"
   ]
  },
  {
   "cell_type": "markdown",
   "metadata": {},
   "source": [
    "# Day 3"
   ]
  },
  {
   "cell_type": "code",
   "execution_count": 8,
   "metadata": {},
   "outputs": [
    {
     "name": "stdout",
     "output_type": "stream",
     "text": [
      "214\n",
      "[94, 214, 99, 91, 46]\n",
      "8336352024\n"
     ]
    }
   ],
   "source": [
    "def count_trees(board, dx=3, dy=1, tree=\"#\"):\n",
    "    maxx = len(board[0])\n",
    "    maxy = len(board)\n",
    "    x, y = 0, 0\n",
    "    cnt = 0\n",
    "    while y + dy < maxy:\n",
    "        x = (x + dx) % maxx\n",
    "        y += dy\n",
    "        cnt += int(board[y][x] == tree)\n",
    "    return cnt\n",
    "\n",
    "filename = \"day3_trees.txt\"\n",
    "data = []\n",
    "with open(filename) as fd:\n",
    "    for line in fd:\n",
    "        data.append(list(line.strip()))\n",
    "\n",
    "res = count_trees(data)\n",
    "print(res)\n",
    "\n",
    "slopes = [(1, 1), (3, 1), (5, 1), (7, 1), (1, 2)] \n",
    "res = [count_trees(data, dx, dy) for dx, dy in slopes]\n",
    "print(res)\n",
    "import math\n",
    "print(math.prod(res))"
   ]
  },
  {
   "cell_type": "markdown",
   "metadata": {},
   "source": [
    "# Day 4"
   ]
  },
  {
   "cell_type": "code",
   "execution_count": 9,
   "metadata": {},
   "outputs": [
    {
     "name": "stdout",
     "output_type": "stream",
     "text": [
      "2\n",
      "256\n"
     ]
    }
   ],
   "source": [
    "import re\n",
    "\n",
    "MANDATORY_KEYS = set(\"byr iyr eyr hgt hcl ecl pid\".split())\n",
    "def valid_pass(passport, mandatory):\n",
    "    return mandatory.issubset(set(passport))\n",
    "\n",
    "\n",
    "def count_passports(filename, validate_func):\n",
    "    with open(filename) as fd:\n",
    "        current = {}\n",
    "        cnt = 0\n",
    "        for line in fd:\n",
    "            line = line.strip()\n",
    "            if not line:\n",
    "                cnt += int(validate_func(current, MANDATORY_KEYS))\n",
    "                current = {}\n",
    "                continue\n",
    "            current.update({rec.split(\":\")[0]:rec.split(\":\")[1] for rec in line.split()})\n",
    "    if current:\n",
    "        cnt += int(validate_func(current, MANDATORY_KEYS))\n",
    "    return cnt\n",
    "\n",
    "\n",
    "print(count_passports(\"day4_test.txt\", valid_pass))\n",
    "print(count_passports(\"day4_passports.txt\", valid_pass))\n",
    "                \n",
    "\n",
    "class IntType:\n",
    "    def __init__(self, val=None, min_val=None, max_val=None, num_digits=None):\n",
    "        self.min_val = min_val\n",
    "        self.max_val = max_val\n",
    "        self.num_digits = num_digits\n",
    "        self.val = val\n",
    "        \n",
    "    def init(self, val):\n",
    "        self.validate_init = True\n",
    "        self.val = val\n",
    "        return self\n",
    "    \n",
    "    def validate(self):\n",
    "        if not self.validate_init:\n",
    "            return False\n",
    "        if self.num_digits and len(self.val) < self.num_digits:\n",
    "            return False\n",
    "        val = int(self.val)\n",
    "        if self.min_val and val < self.min_val:\n",
    "            return False\n",
    "        if self.max_val and val > self.max_val:\n",
    "            return False\n",
    "        return True\n",
    "\n",
    "\n",
    "class HeightType(IntType):\n",
    "    def init(self, val):\n",
    "        self.validate_init = True\n",
    "        if val.endswith(\"cm\"):\n",
    "            self.min_val, self.max_val = 150, 193\n",
    "            self.val = val[:-2]\n",
    "        elif val.endswith(\"in\"):\n",
    "            self.min_val, self.max_val = 59, 76\n",
    "            self.val = val[:-2]\n",
    "        else:\n",
    "            self.validate_init = False\n",
    "        #print(self.val)\n",
    "        return self\n",
    "\n",
    "\n",
    "class PatternType:\n",
    "    def __init__(self, pattern):\n",
    "        self.pattern = re.compile(pattern)\n",
    "    def init(self, val):\n",
    "        self.val = val\n",
    "        return self\n",
    "    def validate(self):\n",
    "        res = self.pattern.match(self.val)\n",
    "        return bool(res)\n",
    "\n",
    "class AnyType:\n",
    "    def init(self, val):\n",
    "        return self\n",
    "    def validate(self):\n",
    "        return True\n",
    "\n",
    "    \n",
    "birth_year = IntType(min_val=1920, max_val=2002, num_digits=4)\n",
    "issue_year = IntType(min_val=2010, max_val=2020, num_digits=4)\n",
    "exp_year = IntType(min_val=2020, max_val=2030, num_digits=4)\n",
    "height = HeightType()\n",
    "hair_color = PatternType(r'^\\#(\\d|[a-f]){6}$')\n",
    "eye_color = PatternType(r'^((amb)|(blu)|(brn)|(gry)|(grn)|(hzl)|(oth))$')\n",
    "passport_id = PatternType(r'^\\d{9}$')\n",
    "country_id = AnyType()\n",
    "\n",
    "\n",
    "VALIDATOR_MAP = {\n",
    "    \"byr\": birth_year,\n",
    "    \"iyr\": issue_year,\n",
    "    \"eyr\": exp_year,\n",
    "    \"hgt\": height,\n",
    "    \"hcl\": hair_color,\n",
    "    \"ecl\": eye_color,\n",
    "    \"pid\": passport_id,\n",
    "    \"cid\": country_id\n",
    "}\n",
    "\n",
    "\n",
    "def valid_pass_v2(passport, mandatory):\n",
    "    if not mandatory.issubset(set(passport)):\n",
    "        return False\n",
    "    #print(passport)\n",
    "    for key in mandatory:\n",
    "        res = VALIDATOR_MAP[key].init(passport[key]).validate()\n",
    "        if not res:\n",
    "            return False\n",
    "    return True"
   ]
  },
  {
   "cell_type": "code",
   "execution_count": 10,
   "metadata": {},
   "outputs": [],
   "source": [
    "tests = \"byr,2002 byr,2003 hgt,74in hgt,60in hgt,190cm hgt,300cm hgt,200 hgt,190in hcl,#123abc hcl,#123abz hcl,123abc ecl,brn ecl,vat pid,000000001 pid,0123456789 cid,2e23r cid,999\"\n",
    "for t in tests.split():\n",
    "    cls, val = t.split(\",\")\n",
    "    res = VALIDATOR_MAP[cls].init(val).validate()\n",
    "    #print(cls, val, res)"
   ]
  },
  {
   "cell_type": "code",
   "execution_count": 11,
   "metadata": {},
   "outputs": [
    {
     "name": "stdout",
     "output_type": "stream",
     "text": [
      "4\n",
      "0\n",
      "198\n"
     ]
    }
   ],
   "source": [
    "print(count_passports(\"day4_valid_test.txt\", valid_pass_v2))\n",
    "print(count_passports(\"day4_invalid_test.txt\", valid_pass_v2))\n",
    "print(count_passports(\"day4_passports.txt\", valid_pass_v2))\n"
   ]
  },
  {
   "cell_type": "code",
   "execution_count": null,
   "metadata": {},
   "outputs": [],
   "source": []
  },
  {
   "cell_type": "markdown",
   "metadata": {},
   "source": [
    "# Day 5"
   ]
  },
  {
   "cell_type": "code",
   "execution_count": 12,
   "metadata": {},
   "outputs": [],
   "source": [
    "def binsearch(code, num_elements, first, second):\n",
    "    minv, maxv = 0, num_elements - 1\n",
    "    for c in code:\n",
    "        mid = minv + (maxv - minv + 1) / 2\n",
    "        if c == first:\n",
    "            maxv = mid - 1\n",
    "        else:\n",
    "            minv = mid\n",
    "        #print(c, mid, minv, maxv)\n",
    "    return minv\n",
    "\n",
    "\n",
    "def get_seat_id(code):\n",
    "    row_code = code[:7]\n",
    "    col_code = code[7:]\n",
    "    row = binsearch(row_code, 128, \"F\", \"B\")\n",
    "    col = binsearch(col_code, 8, \"L\", \"R\")\n",
    "    return int(row), int(col), int(8 * row + col)\n"
   ]
  },
  {
   "cell_type": "code",
   "execution_count": 13,
   "metadata": {},
   "outputs": [
    {
     "name": "stdout",
     "output_type": "stream",
     "text": [
      "BFFFBBFRRR 70 7 567 567\n",
      "FFFBBBFRRR 14 7 119 119\n",
      "BBFFBBFRLL 102 4 820 820\n"
     ]
    }
   ],
   "source": [
    "tests = [(\"BFFFBBFRRR\", 567),\n",
    "         (\"FFFBBBFRRR\", 119),\n",
    "         (\"BBFFBBFRLL\", 820)]\n",
    "\n",
    "for code, expected in tests:\n",
    "    row, col, seat_id = get_seat_id(code)\n",
    "    print(code, row, col, seat_id, expected)"
   ]
  },
  {
   "cell_type": "code",
   "execution_count": 14,
   "metadata": {},
   "outputs": [
    {
     "data": {
      "text/plain": [
       "890"
      ]
     },
     "execution_count": 14,
     "metadata": {},
     "output_type": "execute_result"
    }
   ],
   "source": [
    "filename = \"day5_seats.txt\"\n",
    "data = [line.strip() for line in open(filename)]\n",
    "seat_ids = [get_seat_id(code)[2] for code in data]\n",
    "max(seat_ids)"
   ]
  },
  {
   "cell_type": "code",
   "execution_count": 21,
   "metadata": {},
   "outputs": [],
   "source": [
    "seats = [get_seat_id(code) for code in data]  # row, col, seat_id\n",
    "seat_ids = [seat_id for row, col, seat_id in seats if (row != 0 and row != 127)]\n",
    "seat_ids.sort()"
   ]
  },
  {
   "cell_type": "code",
   "execution_count": 22,
   "metadata": {},
   "outputs": [
    {
     "name": "stdout",
     "output_type": "stream",
     "text": [
      "651\n"
     ]
    }
   ],
   "source": [
    "for i in range(len(seat_ids) - 1):\n",
    "    if seat_ids[i + 1] == seat_ids[i] + 2:\n",
    "        print(seat_ids[i] + 1)"
   ]
  },
  {
   "cell_type": "markdown",
   "metadata": {},
   "source": [
    "# Day 6"
   ]
  },
  {
   "cell_type": "code",
   "execution_count": 27,
   "metadata": {},
   "outputs": [
    {
     "name": "stdout",
     "output_type": "stream",
     "text": [
      "11\n",
      "6630\n"
     ]
    }
   ],
   "source": [
    "def gen_groups(filename):\n",
    "    res = []\n",
    "    with open(filename) as fd:\n",
    "        for line in fd:\n",
    "            line = line.strip()\n",
    "            if not line:\n",
    "                yield res\n",
    "                res = []\n",
    "                continue\n",
    "            res.append(line)\n",
    "    if res:\n",
    "        yield res\n",
    "\n",
    "        \n",
    "def count_questions(filename):\n",
    "    cnt = 0\n",
    "    for g in gen_groups(filename):\n",
    "        current = set()\n",
    "        for ss in g:\n",
    "            current.update(ss)\n",
    "        cnt += len(current)\n",
    "    return cnt\n",
    "\n",
    "\n",
    "print(count_questions(\"day6_test.txt\"))    \n",
    "print(count_questions(\"day6_input.txt\"))    \n"
   ]
  },
  {
   "cell_type": "code",
   "execution_count": null,
   "metadata": {},
   "outputs": [],
   "source": []
  }
 ],
 "metadata": {
  "kernelspec": {
   "display_name": "Python 3",
   "language": "python",
   "name": "python3"
  },
  "language_info": {
   "codemirror_mode": {
    "name": "ipython",
    "version": 3
   },
   "file_extension": ".py",
   "mimetype": "text/x-python",
   "name": "python",
   "nbconvert_exporter": "python",
   "pygments_lexer": "ipython3",
   "version": "3.8.5"
  }
 },
 "nbformat": 4,
 "nbformat_minor": 4
}
